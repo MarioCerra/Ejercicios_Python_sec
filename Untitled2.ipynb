{
  "nbformat": 4,
  "nbformat_minor": 0,
  "metadata": {
    "colab": {
      "provenance": [],
      "authorship_tag": "ABX9TyPKbIEN7Tue22eYaiZdT5Th",
      "include_colab_link": true
    },
    "kernelspec": {
      "name": "python3",
      "display_name": "Python 3"
    },
    "language_info": {
      "name": "python"
    }
  },
  "cells": [
    {
      "cell_type": "markdown",
      "metadata": {
        "id": "view-in-github",
        "colab_type": "text"
      },
      "source": [
        "<a href=\"https://colab.research.google.com/github/MarioCerra/Ejercicios_Python_sec/blob/main/Untitled2.ipynb\" target=\"_parent\"><img src=\"https://colab.research.google.com/assets/colab-badge.svg\" alt=\"Open In Colab\"/></a>"
      ]
    },
    {
      "cell_type": "code",
      "execution_count": 33,
      "metadata": {
        "colab": {
          "base_uri": "https://localhost:8080/",
          "height": 401
        },
        "id": "15dgVkAqliVL",
        "outputId": "bb53ec7c-f989-4ab7-a90d-836a5df828a4"
      },
      "outputs": [
        {
          "name": "stdout",
          "output_type": "stream",
          "text": [
            "ingrese la cantidad de numeros que desea ingresar: 5\n",
            "ingrese un numero entero: -4\n",
            "ingrese un numero entero: 2\n",
            "ingrese un numero entero: 2\n",
            "ingrese un numero entero: 8\n",
            "ingrese un numero entero: -3\n",
            "ingrese un numero entero: 0\n",
            "ingrese un numero entero: 2.5\n"
          ]
        },
        {
          "output_type": "error",
          "ename": "ValueError",
          "evalue": "ignored",
          "traceback": [
            "\u001b[0;31m---------------------------------------------------------------------------\u001b[0m",
            "\u001b[0;31mValueError\u001b[0m                                Traceback (most recent call last)",
            "\u001b[0;32m<ipython-input-33-6f908b298ce9>\u001b[0m in \u001b[0;36m<cell line: 6>\u001b[0;34m()\u001b[0m\n\u001b[1;32m      5\u001b[0m \u001b[0mcontador\u001b[0m \u001b[0;34m=\u001b[0m \u001b[0;36m0\u001b[0m\u001b[0;34m\u001b[0m\u001b[0;34m\u001b[0m\u001b[0m\n\u001b[1;32m      6\u001b[0m \u001b[0;32mwhile\u001b[0m \u001b[0mcontador\u001b[0m \u001b[0;34m<\u001b[0m \u001b[0mn\u001b[0m\u001b[0;34m:\u001b[0m\u001b[0;34m\u001b[0m\u001b[0;34m\u001b[0m\u001b[0m\n\u001b[0;32m----> 7\u001b[0;31m   \u001b[0mnumero\u001b[0m \u001b[0;34m=\u001b[0m \u001b[0mint\u001b[0m\u001b[0;34m(\u001b[0m\u001b[0minput\u001b[0m\u001b[0;34m(\u001b[0m\u001b[0;34m\"ingrese un numero entero: \"\u001b[0m\u001b[0;34m)\u001b[0m\u001b[0;34m)\u001b[0m\u001b[0;34m\u001b[0m\u001b[0;34m\u001b[0m\u001b[0m\n\u001b[0m\u001b[1;32m      8\u001b[0m \u001b[0;34m\u001b[0m\u001b[0m\n\u001b[1;32m      9\u001b[0m \u001b[0;32mif\u001b[0m \u001b[0mnumero\u001b[0m \u001b[0;34m>\u001b[0m \u001b[0;36m0\u001b[0m\u001b[0;34m:\u001b[0m\u001b[0;34m\u001b[0m\u001b[0;34m\u001b[0m\u001b[0m\n",
            "\u001b[0;31mValueError\u001b[0m: invalid literal for int() with base 10: '2.5'"
          ]
        }
      ],
      "source": [
        "suma_positivos = 0\n",
        "suma_negativos = 0\n",
        "n = int(input(\"ingrese la cantidad de numeros que desea ingresar: \"))\n",
        "\n",
        "contador = 0\n",
        "while contador < n:\n",
        "  numero = int(input(\"ingrese un numero entero: \"))\n",
        "\n",
        "if numero > 0:\n",
        "  suma_positivos += numero\n",
        "elif numero < 0:\n",
        "  suma_negativos += numero\n",
        "\n",
        "contador = contador + 1\n",
        "print(\"la suma de los numeros positivos es\", suma_positivos)\n",
        "print(\"la suma de los numeros negativos es\", suma_negativos)\n"
      ]
    },
    {
      "cell_type": "code",
      "source": [
        "cont = 0\n",
        "suma = 0\n",
        "promedio = 0\n",
        "num = 5\n",
        "\n",
        "while num > 0:\n",
        "  cont = cont + 1\n",
        "  num = float(int(input(\"ingrese un numero:\")))\n",
        "  suma = suma + num\n",
        "3promedio = suma/(cont - 1)\n",
        "print(\"el promedio es:\", promedio )\n"
      ],
      "metadata": {
        "colab": {
          "base_uri": "https://localhost:8080/"
        },
        "id": "1IM8c8-fqAbs",
        "outputId": "2e3e140e-007f-44c8-dae1-b5346d28241a"
      },
      "execution_count": 55,
      "outputs": [
        {
          "output_type": "stream",
          "name": "stdout",
          "text": [
            "ingrese un numero:3\n",
            "ingrese un numero:3\n",
            "ingrese un numero:3\n",
            "ingrese un numero:3\n",
            "ingrese un numero:3\n",
            "ingrese un numero:0\n",
            "el promedio es: 3.0\n"
          ]
        }
      ]
    },
    {
      "cell_type": "code",
      "source": [
        "import random\n",
        "num = random.randint(0, 10)\n",
        "\n",
        "\n",
        "numUsuario = 11\n",
        "\n",
        "while num != numUsuario:\n",
        "  numUsuario = int(input(\"ingrese un numero entre 0 y 10:\"))\n",
        "  if numUsuario > num:\n",
        "    print(\"el numero ingresado esta por encima\")\n",
        "\n",
        "  elif numUsuario < num:\n",
        "    print(\"numero ingresado esta por debajo \")\n",
        "\n",
        "  else:\n",
        "    print(\"adivinado\")\n",
        ""
      ],
      "metadata": {
        "colab": {
          "base_uri": "https://localhost:8080/"
        },
        "id": "5VkZchRm0_uJ",
        "outputId": "c15985a4-2bbc-4f3e-e73d-d82af917c3b0"
      },
      "execution_count": 77,
      "outputs": [
        {
          "output_type": "stream",
          "name": "stdout",
          "text": [
            "ingrese un numero entre 0 y 10:8\n",
            "el numero ingresado esta por encima\n",
            "ingrese un numero entre 0 y 10:5\n",
            "numero ingresado esta por debajo \n",
            "ingrese un numero entre 0 y 10:6\n",
            "adivinado\n"
          ]
        }
      ]
    }
  ]
}