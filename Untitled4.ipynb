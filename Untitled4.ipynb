{
  "nbformat": 4,
  "nbformat_minor": 0,
  "metadata": {
    "colab": {
      "provenance": [],
      "authorship_tag": "ABX9TyNd9zrg93FL2KXME95F0427",
      "include_colab_link": true
    },
    "kernelspec": {
      "name": "python3",
      "display_name": "Python 3"
    },
    "language_info": {
      "name": "python"
    }
  },
  "cells": [
    {
      "cell_type": "markdown",
      "metadata": {
        "id": "view-in-github",
        "colab_type": "text"
      },
      "source": [
        "<a href=\"https://colab.research.google.com/github/MarioCerra/Ejercicios_Python_sec/blob/main/Untitled4.ipynb\" target=\"_parent\"><img src=\"https://colab.research.google.com/assets/colab-badge.svg\" alt=\"Open In Colab\"/></a>"
      ]
    },
    {
      "cell_type": "code",
      "execution_count": 2,
      "metadata": {
        "colab": {
          "base_uri": "https://localhost:8080/"
        },
        "id": "0qUeh9o9nIcs",
        "outputId": "9f6716a6-0041-485d-960a-df12eeb883a5"
      },
      "outputs": [
        {
          "output_type": "stream",
          "name": "stdout",
          "text": [
            "['Manzana', 'Mango', 'Pera', 'Uva']\n",
            "['Mango', 'Pera', 'Uva']\n"
          ]
        }
      ],
      "source": [
        "frutas = [\"Manzana\",\"Mango\",\"Pera\"]\n",
        "frutas.append(\"Uva\")\n",
        "print(frutas)\n",
        "#frutas.remove(\"Manzana\")\n",
        "frutas.remove(frutas[0])\n",
        "print(frutas)"
      ]
    },
    {
      "cell_type": "code",
      "source": [
        "compras =[]\n",
        "\n",
        "add = True\n",
        "while add == True:\n",
        "  producto = input(\"ingrese un producto :\")\n",
        "  if producto == \"YA\":\n",
        "     add = False\n",
        "  else:\n",
        "    compras.append(producto)\n",
        "\n",
        "print(compras)\n"
      ],
      "metadata": {
        "colab": {
          "base_uri": "https://localhost:8080/"
        },
        "id": "GHk4rrCPnuXS",
        "outputId": "711b7c84-6621-48ad-e01d-bab2581a4d3d"
      },
      "execution_count": 3,
      "outputs": [
        {
          "output_type": "stream",
          "name": "stdout",
          "text": [
            "ingrese un producto :a\n",
            "ingrese un producto :a\n",
            "ingrese un producto :b\n",
            "ingrese un producto :c\n",
            "ingrese un producto :d\n",
            "ingrese un producto :YA\n",
            "['a', 'a', 'b', 'c', 'd']\n"
          ]
        }
      ]
    },
    {
      "cell_type": "code",
      "source": [
        "from re import I\n",
        "calif = [2.5, 3, 1, 4, 3.1, 3.7]\n",
        "promedio = 0\n",
        "min = 5\n",
        "max = 0\n",
        "for i in range(0, len(calif)):\n",
        "  promedio = promedio + calif[i]\n",
        "  if max < calif[i]:\n",
        "    max = calif[i]\n",
        "\n",
        "  if min > calif[i]:\n",
        "    min = calif[i]\n",
        "\n",
        "promedio = promedio / len(calif)\n",
        "print(promedio)\n",
        "print(\"nota minima: \", min)\n",
        "print(\"nota maxima: \", max)\n",
        "\n"
      ],
      "metadata": {
        "colab": {
          "base_uri": "https://localhost:8080/"
        },
        "id": "MrFZFzp2ocOK",
        "outputId": "5561c2fb-9acf-4fb1-e30a-6a9fd7c89bfb"
      },
      "execution_count": 5,
      "outputs": [
        {
          "output_type": "stream",
          "name": "stdout",
          "text": [
            "2.8833333333333333\n",
            "nota minima:  1\n",
            "nota maxima:  4\n"
          ]
        }
      ]
    }
  ]
}