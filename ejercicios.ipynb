{
  "nbformat": 4,
  "nbformat_minor": 0,
  "metadata": {
    "colab": {
      "provenance": [],
      "authorship_tag": "ABX9TyNsHU14r0C3F8AOwr/Jm2Xd",
      "include_colab_link": true
    },
    "kernelspec": {
      "name": "python3",
      "display_name": "Python 3"
    },
    "language_info": {
      "name": "python"
    }
  },
  "cells": [
    {
      "cell_type": "markdown",
      "metadata": {
        "id": "view-in-github",
        "colab_type": "text"
      },
      "source": [
        "<a href=\"https://colab.research.google.com/github/MarioCerra/Ejercicios_Python_sec/blob/main/ejercicios.ipynb\" target=\"_parent\"><img src=\"https://colab.research.google.com/assets/colab-badge.svg\" alt=\"Open In Colab\"/></a>"
      ]
    },
    {
      "cell_type": "code",
      "execution_count": 3,
      "metadata": {
        "id": "oZewTnE-bvdT",
        "outputId": "102ea0db-1813-4235-f86a-9b789da76f6d",
        "colab": {
          "base_uri": "https://localhost:8080/"
        }
      },
      "outputs": [
        {
          "output_type": "stream",
          "name": "stdout",
          "text": [
            "escriba su nombre: Mario cerra\n",
            "cual es tu edad? 18\n",
            "Hola, Mario cerra\n",
            "Tienes 18 años\n"
          ]
        }
      ],
      "source": [
        "name = input(\"escriba su nombre: \")\n",
        "age = int(input(\"cual es tu edad? \"))\n",
        "print(\"Hola,\", name)\n",
        "print(\"Tienes\", str(age), \"años\" )\n"
      ]
    },
    {
      "cell_type": "markdown",
      "source": [
        "## Ejercicio 1: Área de un rectangulo\n",
        "\n",
        "Calcular el área de un rectrangulo a partir de su base y altura:\n",
        "\n",
        "A = b * h"
      ],
      "metadata": {
        "id": "VXUPGjhwe-ab"
      }
    },
    {
      "cell_type": "code",
      "source": [
        "print(\"programa para calcular el área de un rectangulo\")\n",
        "b = float(input(\"ingrese la base (m): \"))\n",
        "h = float(input(\"ingrese la altura (m): \"))\n",
        "A = b * h\n",
        "print(\"El area del rectangulo con base\", str(b), \"(m) y altura\", str(h), \"(m) es\" , str(A), \"m2\")"
      ],
      "metadata": {
        "id": "UPEiV_mcfDsQ",
        "outputId": "aa60215b-bd1c-4a4f-90c6-41cbd451ed6a",
        "colab": {
          "base_uri": "https://localhost:8080/"
        }
      },
      "execution_count": 5,
      "outputs": [
        {
          "output_type": "stream",
          "name": "stdout",
          "text": [
            "programa para calcular el área de un rectangulo\n",
            "ingrese la base (m): 12\n",
            "ingrese la altura (m): 15\n",
            "El area del rectangulo con base 12.0 (m) y altura 15.0 (m) es 180.0 m2\n"
          ]
        }
      ]
    },
    {
      "cell_type": "markdown",
      "source": [
        "## Ejercicio 2: Área de un triangulo\n",
        "Calcular el area de un trinagulo\n",
        "\n",
        "A = b * h / 2"
      ],
      "metadata": {
        "id": "QTf0eMhpgoik"
      }
    },
    {
      "cell_type": "code",
      "source": [
        "print(\"programa para calcular el area de un triangulo\")\n",
        "b = float(input(\"ingrese la base (m): \"))\n",
        "h = float(input(\"ingrese la base \"))\n",
        "A = b * h / 2\n",
        "print(\"El area del triangulo con base\", str(b), \"(m) y altura\", str(h), \"(m) es\" , str(A), \"m2\")"
      ],
      "metadata": {
        "id": "zRi6cISEg-wI",
        "outputId": "81a3158c-b444-4e3b-ce19-0a89e6460659",
        "colab": {
          "base_uri": "https://localhost:8080/"
        }
      },
      "execution_count": 6,
      "outputs": [
        {
          "output_type": "stream",
          "name": "stdout",
          "text": [
            "programa para calcular el area de un triangulo\n",
            "ingrese la base (m): 12\n",
            "ingrese la base 8\n",
            "El area del rectangulo con base 12.0 (m) y altura 8.0 (m) es 48.0 m2\n"
          ]
        }
      ]
    },
    {
      "cell_type": "markdown",
      "source": [
        "## Ejercicio 3: Área de un circulo\n",
        "Calculra el area de un circulo\n",
        "\n",
        "A = pi * r ** 2"
      ],
      "metadata": {
        "id": "tNVN0u4dh3hy"
      }
    },
    {
      "cell_type": "code",
      "source": [
        "import math\n",
        "print(\"programa para calcular el area de un circulo\")\n",
        "r = float(input(\"ingrese el radio  (m): \"))\n",
        "\n",
        "A = math.pi * r ** 2\n",
        "print(\"El area del circulo con radio\", str(b), \"(m) y altura\", str(h), \"(m) es\" , str(A), \"m2\")"
      ],
      "metadata": {
        "id": "aPtw6f5xiQ41",
        "outputId": "dcc53453-e844-415a-e2b8-13e07a28f823",
        "colab": {
          "base_uri": "https://localhost:8080/"
        }
      },
      "execution_count": 8,
      "outputs": [
        {
          "output_type": "stream",
          "name": "stdout",
          "text": [
            "programa para calcular el area de un circulo\n",
            "ingrese el radio  (m): 12.5\n",
            "El area del circulo con radio 12.0 (m) y altura 8.0 (m) es 490.8738521234052 m2\n"
          ]
        }
      ]
    },
    {
      "cell_type": "markdown",
      "source": [
        "## Ejercicio 4: Voltaje\n",
        "Calcular y mostrar el voltaje en un instatnte de tiempo $t$ dada su amplitud, frecuencia y angulo de fase:\n",
        "\n",
        "theta = ang * pi / 180\n",
        "\n",
        "omega = 2 * pi * f\n",
        "\n",
        "V = amp * cos(omega * t + theta)\n",
        "\n",
        "$$\\theta_v = ang\\times \\pi / 180$$\n",
        "\n"
      ],
      "metadata": {
        "id": "jXRerSQkjstN"
      }
    },
    {
      "cell_type": "code",
      "source": [
        "import math\n",
        "print(\"programa para calcular el voltaje instantaneo. \")\n",
        "V = float(input(\"ingrese la amplitud (V): \"))\n",
        "f = float(input(\"ingrese la frecuencia (HZ): \"))\n",
        "ang = float(input(\"ingrese el angulo de fase (°): \"))\n",
        "\n",
        "t = float(input(\"ingrese el imstante de tiempo (s): \"))\n",
        "\n",
        "omega = 2 * math.pi * f\n",
        "theta = ang * math.pi / 180\n",
        "v_t = V * math.cos(omega * t + theta)\n",
        "\n",
        "print(\"el voltaje instantaneo para los datos ingresados es: \", str(v_t), \"v\")"
      ],
      "metadata": {
        "id": "GnJsyzCtlvs8",
        "outputId": "4c102e0f-9874-41a4-b5aa-4c44d1dd63bc",
        "colab": {
          "base_uri": "https://localhost:8080/"
        }
      },
      "execution_count": 10,
      "outputs": [
        {
          "output_type": "stream",
          "name": "stdout",
          "text": [
            "programa para calcular el voltaje instantaneo. \n",
            "ingrese la amplitud (V): 208\n",
            "ingrese la frecuencia (HZ): 60\n",
            "ingrese el angulo de fase (°): 30\n",
            "ingrese el imstante de tiempo (s): 15\n",
            "el voltaje instantaneo para los datos ingresados es:  180.13328398715777 v\n"
          ]
        }
      ]
    },
    {
      "cell_type": "code",
      "source": [],
      "metadata": {
        "id": "wxP9i35mnwXk"
      },
      "execution_count": 10,
      "outputs": []
    }
  ]
}